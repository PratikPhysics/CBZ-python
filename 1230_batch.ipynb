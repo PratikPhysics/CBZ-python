{
  "nbformat": 4,
  "nbformat_minor": 0,
  "metadata": {
    "colab": {
      "provenance": []
    },
    "kernelspec": {
      "name": "python3",
      "display_name": "Python 3"
    },
    "language_info": {
      "name": "python"
    }
  },
  "cells": [
    {
      "cell_type": "code",
      "execution_count": 1,
      "metadata": {
        "colab": {
          "base_uri": "https://localhost:8080/",
          "height": 36
        },
        "id": "87bnLgNz63zu",
        "outputId": "b4063183-65db-47de-f267-ee6a98ceb301"
      },
      "outputs": [
        {
          "output_type": "execute_result",
          "data": {
            "text/plain": [
              "' Understand Variables\\nData Types\\nPython (Type) Casting\\nString Manupulation\\nString Function'"
            ],
            "application/vnd.google.colaboratory.intrinsic+json": {
              "type": "string"
            }
          },
          "metadata": {},
          "execution_count": 1
        }
      ],
      "source": [
        "\"\"\" Understand Variables\n",
        "Data Types\n",
        "Python (Type) Casting\n",
        "String Manupulation\n",
        "String Function\"\"\""
      ]
    },
    {
      "cell_type": "code",
      "source": [
        "a = 20\n",
        "type(a)"
      ],
      "metadata": {
        "colab": {
          "base_uri": "https://localhost:8080/"
        },
        "id": "tBaL8yr57KD8",
        "outputId": "ef2e4a86-9e74-4a3b-ba13-811bcc1dd9a3"
      },
      "execution_count": 6,
      "outputs": [
        {
          "output_type": "execute_result",
          "data": {
            "text/plain": [
              "int"
            ]
          },
          "metadata": {},
          "execution_count": 6
        }
      ]
    },
    {
      "cell_type": "code",
      "source": [
        "a = 3.14\n",
        "type(a)"
      ],
      "metadata": {
        "colab": {
          "base_uri": "https://localhost:8080/"
        },
        "id": "3Gi9Y_oc7xOG",
        "outputId": "bb4365df-ae73-4ac1-a63c-6701bb630550"
      },
      "execution_count": 7,
      "outputs": [
        {
          "output_type": "execute_result",
          "data": {
            "text/plain": [
              "float"
            ]
          },
          "metadata": {},
          "execution_count": 7
        }
      ]
    },
    {
      "cell_type": "code",
      "source": [
        "a = True\n",
        "type(a)"
      ],
      "metadata": {
        "colab": {
          "base_uri": "https://localhost:8080/"
        },
        "id": "rAdYiNS770fr",
        "outputId": "2ee62519-4e38-4209-ac0c-62a2357591d4"
      },
      "execution_count": 8,
      "outputs": [
        {
          "output_type": "execute_result",
          "data": {
            "text/plain": [
              "bool"
            ]
          },
          "metadata": {},
          "execution_count": 8
        }
      ]
    },
    {
      "cell_type": "code",
      "source": [
        "a = 3 + 4j\n",
        "type(a)"
      ],
      "metadata": {
        "colab": {
          "base_uri": "https://localhost:8080/"
        },
        "id": "zMEe4Cte8PgK",
        "outputId": "c882f484-83fa-4636-9c07-08a3be04fc6c"
      },
      "execution_count": 10,
      "outputs": [
        {
          "output_type": "execute_result",
          "data": {
            "text/plain": [
              "complex"
            ]
          },
          "metadata": {},
          "execution_count": 10
        }
      ]
    },
    {
      "cell_type": "code",
      "source": [
        "a = \"10\"\n",
        "type(a)"
      ],
      "metadata": {
        "colab": {
          "base_uri": "https://localhost:8080/"
        },
        "id": "8LTGvG0l8Yem",
        "outputId": "7c1cf7de-adab-4b1f-939d-48ffc9998638"
      },
      "execution_count": 15,
      "outputs": [
        {
          "output_type": "execute_result",
          "data": {
            "text/plain": [
              "str"
            ]
          },
          "metadata": {},
          "execution_count": 15
        }
      ]
    },
    {
      "cell_type": "code",
      "source": [
        "a = [12,32,4,5,5,6,6]\n",
        "type(a)"
      ],
      "metadata": {
        "colab": {
          "base_uri": "https://localhost:8080/"
        },
        "id": "updj7VdU8qMf",
        "outputId": "cf10b32b-a112-41ba-e35a-0bfa50b7e628"
      },
      "execution_count": 12,
      "outputs": [
        {
          "output_type": "execute_result",
          "data": {
            "text/plain": [
              "list"
            ]
          },
          "metadata": {},
          "execution_count": 12
        }
      ]
    },
    {
      "cell_type": "code",
      "source": [
        "a = (4,3,4,5,56,7)\n",
        "type(a)"
      ],
      "metadata": {
        "colab": {
          "base_uri": "https://localhost:8080/"
        },
        "id": "ltx1pr_t8wbH",
        "outputId": "7fc8ae20-c2f2-48f9-da5c-403c0dde3e05"
      },
      "execution_count": 13,
      "outputs": [
        {
          "output_type": "execute_result",
          "data": {
            "text/plain": [
              "tuple"
            ]
          },
          "metadata": {},
          "execution_count": 13
        }
      ]
    },
    {
      "cell_type": "code",
      "source": [],
      "metadata": {
        "colab": {
          "base_uri": "https://localhost:8080/",
          "height": 36
        },
        "id": "HgrL9sgj8zhA",
        "outputId": "3df1dfec-b563-437d-9971-d4b88c02b713"
      },
      "execution_count": 20,
      "outputs": [
        {
          "output_type": "execute_result",
          "data": {
            "text/plain": [
              "'Vada Pav'"
            ],
            "application/vnd.google.colaboratory.intrinsic+json": {
              "type": "string"
            }
          },
          "metadata": {},
          "execution_count": 20
        }
      ]
    },
    {
      "cell_type": "code",
      "source": [
        "#naming a variable\n",
        "a = 200"
      ],
      "metadata": {
        "id": "2mAimoa29Dqk"
      },
      "execution_count": 30,
      "outputs": []
    },
    {
      "cell_type": "code",
      "source": [],
      "metadata": {
        "colab": {
          "base_uri": "https://localhost:8080/"
        },
        "id": "9ORCS12E9xs4",
        "outputId": "3710efd4-b9d5-43cf-a8be-837c17317ab9"
      },
      "execution_count": 22,
      "outputs": [
        {
          "output_type": "execute_result",
          "data": {
            "text/plain": [
              "210"
            ]
          },
          "metadata": {},
          "execution_count": 22
        }
      ]
    },
    {
      "cell_type": "code",
      "source": [
        "ra ju = 200"
      ],
      "metadata": {
        "colab": {
          "base_uri": "https://localhost:8080/",
          "height": 110
        },
        "id": "e_XqL8IF9xIq",
        "outputId": "fec062de-6511-40fd-a124-4b3c4e77cea5"
      },
      "execution_count": 31,
      "outputs": [
        {
          "output_type": "error",
          "ename": "SyntaxError",
          "evalue": "invalid syntax (<ipython-input-31-be91101e558a>, line 1)",
          "traceback": [
            "\u001b[0;36m  File \u001b[0;32m\"<ipython-input-31-be91101e558a>\"\u001b[0;36m, line \u001b[0;32m1\u001b[0m\n\u001b[0;31m    ra ju = 200\u001b[0m\n\u001b[0m       ^\u001b[0m\n\u001b[0;31mSyntaxError\u001b[0m\u001b[0;31m:\u001b[0m invalid syntax\n"
          ]
        }
      ]
    },
    {
      "cell_type": "code",
      "source": [
        "ra!ju = 300"
      ],
      "metadata": {
        "colab": {
          "base_uri": "https://localhost:8080/",
          "height": 110
        },
        "id": "hPthb6Re-uuH",
        "outputId": "8a66ba75-22fe-4f9b-d03d-af6ae3414737"
      },
      "execution_count": 32,
      "outputs": [
        {
          "output_type": "error",
          "ename": "SyntaxError",
          "evalue": "invalid syntax (<ipython-input-32-8d136ffae0c2>, line 1)",
          "traceback": [
            "\u001b[0;36m  File \u001b[0;32m\"<ipython-input-32-8d136ffae0c2>\"\u001b[0;36m, line \u001b[0;32m1\u001b[0m\n\u001b[0;31m    ra!ju = 300\u001b[0m\n\u001b[0m      ^\u001b[0m\n\u001b[0;31mSyntaxError\u001b[0m\u001b[0;31m:\u001b[0m invalid syntax\n"
          ]
        }
      ]
    },
    {
      "cell_type": "code",
      "source": [
        "print(\"Hello 🦅\")"
      ],
      "metadata": {
        "colab": {
          "base_uri": "https://localhost:8080/"
        },
        "id": "4w2G2d_x-xZb",
        "outputId": "9c5b293a-83c8-42e2-dea8-2275aef1fd0b"
      },
      "execution_count": 42,
      "outputs": [
        {
          "output_type": "stream",
          "name": "stdout",
          "text": [
            "Hello 🦅\n"
          ]
        }
      ]
    },
    {
      "cell_type": "code",
      "source": [
        "# Gadbad!!! 💀💀💀💀!! Do not use key word to make a variable.\n"
      ],
      "metadata": {
        "id": "CuIEYa6V_xGI"
      },
      "execution_count": 43,
      "outputs": []
    },
    {
      "cell_type": "code",
      "source": [
        "print + 10"
      ],
      "metadata": {
        "colab": {
          "base_uri": "https://localhost:8080/"
        },
        "id": "jHk7JPHk_ycO",
        "outputId": "81ce9e48-a210-4d41-f835-9267f5804666"
      },
      "execution_count": 44,
      "outputs": [
        {
          "output_type": "execute_result",
          "data": {
            "text/plain": [
              "510"
            ]
          },
          "metadata": {},
          "execution_count": 44
        }
      ]
    },
    {
      "cell_type": "code",
      "source": [
        "print(\" Hello python 🥲 \")"
      ],
      "metadata": {
        "colab": {
          "base_uri": "https://localhost:8080/"
        },
        "id": "kWiiFio5AacP",
        "outputId": "14b153cd-8589-45d3-d106-daede09ec751"
      },
      "execution_count": 47,
      "outputs": [
        {
          "output_type": "stream",
          "name": "stdout",
          "text": [
            " Hello python 🥲 \n"
          ]
        }
      ]
    },
    {
      "cell_type": "code",
      "source": [
        "del print"
      ],
      "metadata": {
        "id": "xNW21WPFA7UO"
      },
      "execution_count": 46,
      "outputs": []
    },
    {
      "cell_type": "code",
      "source": [],
      "metadata": {
        "id": "G-171MOsBX7s"
      },
      "execution_count": 48,
      "outputs": []
    },
    {
      "cell_type": "code",
      "source": [
        "print(\"hello\")"
      ],
      "metadata": {
        "colab": {
          "base_uri": "https://localhost:8080/"
        },
        "id": "UPVaTxSjBmok",
        "outputId": "15d5ca1c-7719-42f2-e981-0fb5e440187b"
      },
      "execution_count": 52,
      "outputs": [
        {
          "output_type": "stream",
          "name": "stdout",
          "text": [
            "hello\n"
          ]
        }
      ]
    },
    {
      "cell_type": "code",
      "source": [
        "print"
      ],
      "metadata": {
        "colab": {
          "base_uri": "https://localhost:8080/",
          "height": 36
        },
        "id": "hkQQdjyBBr0U",
        "outputId": "cd9cacc1-0187-4c09-c2f0-94465c0a7312"
      },
      "execution_count": 50,
      "outputs": [
        {
          "output_type": "execute_result",
          "data": {
            "text/plain": [
              "'💀'"
            ],
            "application/vnd.google.colaboratory.intrinsic+json": {
              "type": "string"
            }
          },
          "metadata": {},
          "execution_count": 50
        }
      ]
    },
    {
      "cell_type": "code",
      "source": [
        "a = 10\n",
        "type(a)"
      ],
      "metadata": {
        "colab": {
          "base_uri": "https://localhost:8080/"
        },
        "id": "CL23eK2NBu3X",
        "outputId": "479fe1d9-eca5-45c3-af94-40a567ce2e04"
      },
      "execution_count": 53,
      "outputs": [
        {
          "output_type": "execute_result",
          "data": {
            "text/plain": [
              "int"
            ]
          },
          "metadata": {},
          "execution_count": 53
        }
      ]
    },
    {
      "cell_type": "code",
      "source": [
        "b = float(a)"
      ],
      "metadata": {
        "id": "rgVs4Me1By8V"
      },
      "execution_count": 54,
      "outputs": []
    },
    {
      "cell_type": "code",
      "source": [
        "b"
      ],
      "metadata": {
        "colab": {
          "base_uri": "https://localhost:8080/"
        },
        "id": "K4hoew2rCKLu",
        "outputId": "2ae47852-a723-4295-a1d3-263d29c541b3"
      },
      "execution_count": 55,
      "outputs": [
        {
          "output_type": "execute_result",
          "data": {
            "text/plain": [
              "10.0"
            ]
          },
          "metadata": {},
          "execution_count": 55
        }
      ]
    },
    {
      "cell_type": "code",
      "source": [
        "int(b)"
      ],
      "metadata": {
        "colab": {
          "base_uri": "https://localhost:8080/"
        },
        "id": "ADSKC8ttCOBv",
        "outputId": "6817a9b7-a741-407a-e0d3-be83365461d5"
      },
      "execution_count": 56,
      "outputs": [
        {
          "output_type": "execute_result",
          "data": {
            "text/plain": [
              "10"
            ]
          },
          "metadata": {},
          "execution_count": 56
        }
      ]
    },
    {
      "cell_type": "code",
      "source": [
        "t = \"2025\"\n",
        "f = 10"
      ],
      "metadata": {
        "id": "fn4mpUCeCSg5"
      },
      "execution_count": 66,
      "outputs": []
    },
    {
      "cell_type": "code",
      "source": [
        "f + t"
      ],
      "metadata": {
        "colab": {
          "base_uri": "https://localhost:8080/",
          "height": 146
        },
        "id": "PA1mXc2QCbHo",
        "outputId": "3fc1c236-f40e-4d2b-9c60-ab4efc899af6"
      },
      "execution_count": 69,
      "outputs": [
        {
          "output_type": "error",
          "ename": "TypeError",
          "evalue": "unsupported operand type(s) for +: 'int' and 'str'",
          "traceback": [
            "\u001b[0;31m---------------------------------------------------------------------------\u001b[0m",
            "\u001b[0;31mTypeError\u001b[0m                                 Traceback (most recent call last)",
            "\u001b[0;32m<ipython-input-69-fc291113fdb6>\u001b[0m in \u001b[0;36m<cell line: 0>\u001b[0;34m()\u001b[0m\n\u001b[0;32m----> 1\u001b[0;31m \u001b[0mf\u001b[0m \u001b[0;34m+\u001b[0m \u001b[0mt\u001b[0m\u001b[0;34m\u001b[0m\u001b[0;34m\u001b[0m\u001b[0m\n\u001b[0m",
            "\u001b[0;31mTypeError\u001b[0m: unsupported operand type(s) for +: 'int' and 'str'"
          ]
        }
      ]
    },
    {
      "cell_type": "code",
      "source": [
        "#create all basic data type in python\n",
        "#perform type casting\n",
        "#print function la gawab karun wapas aana\n",
        "# Add the lenght of the word \"Cloudblitz\" and \"Narendra MOdi\""
      ],
      "metadata": {
        "id": "qBlgaFkyCije"
      },
      "execution_count": 70,
      "outputs": []
    },
    {
      "cell_type": "code",
      "source": [
        "a = 12\n",
        "type(a)"
      ],
      "metadata": {
        "colab": {
          "base_uri": "https://localhost:8080/"
        },
        "id": "IJcfwelzFWVV",
        "outputId": "3ca78f4d-33f0-46d7-89ae-289cd66c7782"
      },
      "execution_count": 71,
      "outputs": [
        {
          "output_type": "execute_result",
          "data": {
            "text/plain": [
              "int"
            ]
          },
          "metadata": {},
          "execution_count": 71
        }
      ]
    },
    {
      "cell_type": "code",
      "source": [
        "a = 12.5\n",
        "type(a)"
      ],
      "metadata": {
        "colab": {
          "base_uri": "https://localhost:8080/"
        },
        "id": "e66T8Vr6FbQz",
        "outputId": "0795e928-93ee-46fe-e0bf-619dd1d14541"
      },
      "execution_count": 72,
      "outputs": [
        {
          "output_type": "execute_result",
          "data": {
            "text/plain": [
              "float"
            ]
          },
          "metadata": {},
          "execution_count": 72
        }
      ]
    },
    {
      "cell_type": "code",
      "source": [
        "a = True\n",
        "type(a)"
      ],
      "metadata": {
        "colab": {
          "base_uri": "https://localhost:8080/"
        },
        "id": "BPJ7QZpAFdFB",
        "outputId": "2e9237bd-41bc-45ae-9844-de5b76b0580d"
      },
      "execution_count": 74,
      "outputs": [
        {
          "output_type": "execute_result",
          "data": {
            "text/plain": [
              "bool"
            ]
          },
          "metadata": {},
          "execution_count": 74
        }
      ]
    },
    {
      "cell_type": "code",
      "source": [
        "a = 3 + 3j\n",
        "type(a)"
      ],
      "metadata": {
        "colab": {
          "base_uri": "https://localhost:8080/"
        },
        "id": "b9MLK0FMFd61",
        "outputId": "273906c0-cb1f-4671-cebf-29165ef9003d"
      },
      "execution_count": 75,
      "outputs": [
        {
          "output_type": "execute_result",
          "data": {
            "text/plain": [
              "complex"
            ]
          },
          "metadata": {},
          "execution_count": 75
        }
      ]
    },
    {
      "cell_type": "code",
      "source": [
        "a = \"Bun maska\"\n",
        "type(a)"
      ],
      "metadata": {
        "colab": {
          "base_uri": "https://localhost:8080/"
        },
        "id": "qGEkE2nOFhtU",
        "outputId": "d4e82d12-ed83-4f16-b773-9ec3d96229b9"
      },
      "execution_count": 76,
      "outputs": [
        {
          "output_type": "execute_result",
          "data": {
            "text/plain": [
              "str"
            ]
          },
          "metadata": {},
          "execution_count": 76
        }
      ]
    },
    {
      "cell_type": "code",
      "source": [
        "a = [4,4,4,3,4]\n",
        "type(a)"
      ],
      "metadata": {
        "colab": {
          "base_uri": "https://localhost:8080/"
        },
        "id": "YnOCvJ5rFmz1",
        "outputId": "fa1e4dab-adff-44ab-ab46-98200178da98"
      },
      "execution_count": 77,
      "outputs": [
        {
          "output_type": "execute_result",
          "data": {
            "text/plain": [
              "list"
            ]
          },
          "metadata": {},
          "execution_count": 77
        }
      ]
    },
    {
      "cell_type": "code",
      "source": [
        "a = (3,4,5,6,7)\n",
        "type(a)"
      ],
      "metadata": {
        "colab": {
          "base_uri": "https://localhost:8080/"
        },
        "id": "ZajzOcpQFpiU",
        "outputId": "1d8e00da-4a4b-4c5f-93da-c7e49a0f7ea2"
      },
      "execution_count": 78,
      "outputs": [
        {
          "output_type": "execute_result",
          "data": {
            "text/plain": [
              "tuple"
            ]
          },
          "metadata": {},
          "execution_count": 78
        }
      ]
    },
    {
      "cell_type": "code",
      "source": [
        "b = 30.8\n",
        "a = int(b)\n",
        "type(a)"
      ],
      "metadata": {
        "colab": {
          "base_uri": "https://localhost:8080/"
        },
        "id": "T07JFk0gFrFE",
        "outputId": "ec177be7-a8b1-4927-f68b-d9b38e3f1a64"
      },
      "execution_count": 82,
      "outputs": [
        {
          "output_type": "execute_result",
          "data": {
            "text/plain": [
              "int"
            ]
          },
          "metadata": {},
          "execution_count": 82
        }
      ]
    },
    {
      "cell_type": "code",
      "source": [
        "print(\"hello\")"
      ],
      "metadata": {
        "colab": {
          "base_uri": "https://localhost:8080/"
        },
        "id": "8R_p2LIwF0uF",
        "outputId": "cb7edd64-58fe-47cd-f40f-7c14ad2c707a"
      },
      "execution_count": 83,
      "outputs": [
        {
          "output_type": "stream",
          "name": "stdout",
          "text": [
            "hello\n"
          ]
        }
      ]
    },
    {
      "cell_type": "code",
      "source": [
        "print = 4"
      ],
      "metadata": {
        "id": "ry4VhUu0GL1i"
      },
      "execution_count": 84,
      "outputs": []
    },
    {
      "cell_type": "code",
      "source": [
        "print(\"hello\")"
      ],
      "metadata": {
        "colab": {
          "base_uri": "https://localhost:8080/",
          "height": 146
        },
        "id": "S4p2a93yGNME",
        "outputId": "778e5105-91f0-4772-f92d-6367b018143e"
      },
      "execution_count": 85,
      "outputs": [
        {
          "output_type": "error",
          "ename": "TypeError",
          "evalue": "'int' object is not callable",
          "traceback": [
            "\u001b[0;31m---------------------------------------------------------------------------\u001b[0m",
            "\u001b[0;31mTypeError\u001b[0m                                 Traceback (most recent call last)",
            "\u001b[0;32m<ipython-input-85-43d0290e3b7d>\u001b[0m in \u001b[0;36m<cell line: 0>\u001b[0;34m()\u001b[0m\n\u001b[0;32m----> 1\u001b[0;31m \u001b[0mprint\u001b[0m\u001b[0;34m(\u001b[0m\u001b[0;34m\"hello\"\u001b[0m\u001b[0;34m)\u001b[0m\u001b[0;34m\u001b[0m\u001b[0;34m\u001b[0m\u001b[0m\n\u001b[0m",
            "\u001b[0;31mTypeError\u001b[0m: 'int' object is not callable"
          ]
        }
      ]
    },
    {
      "cell_type": "code",
      "source": [],
      "metadata": {
        "id": "goQ78FjKGO2K"
      },
      "execution_count": 86,
      "outputs": []
    },
    {
      "cell_type": "code",
      "source": [
        "print(\"heelo\")"
      ],
      "metadata": {
        "colab": {
          "base_uri": "https://localhost:8080/"
        },
        "id": "UOGYRdIeGQlh",
        "outputId": "607f615e-cdad-487d-ef78-24d83cdeff66"
      },
      "execution_count": 87,
      "outputs": [
        {
          "output_type": "stream",
          "name": "stdout",
          "text": [
            "heelo\n"
          ]
        }
      ]
    },
    {
      "cell_type": "code",
      "source": [
        "# \"Cloudblitz\" and \"Narendra MOdi\"\n",
        "len(\"Cloudblitz\") + len(\"Narendra MOdi\")"
      ],
      "metadata": {
        "colab": {
          "base_uri": "https://localhost:8080/"
        },
        "id": "43Cjnzk5GSHQ",
        "outputId": "b443d830-a840-4605-ce07-24b41c6ba6a7"
      },
      "execution_count": 88,
      "outputs": [
        {
          "output_type": "execute_result",
          "data": {
            "text/plain": [
              "23"
            ]
          },
          "metadata": {},
          "execution_count": 88
        }
      ]
    },
    {
      "cell_type": "code",
      "source": [
        "s = \"Narendra MOdi A\""
      ],
      "metadata": {
        "id": "vQKm8lV6GqTq"
      },
      "execution_count": 91,
      "outputs": []
    },
    {
      "cell_type": "code",
      "source": [
        "s.count(\"a\")"
      ],
      "metadata": {
        "colab": {
          "base_uri": "https://localhost:8080/"
        },
        "id": "6W9Ftw0YG4a-",
        "outputId": "5765746c-b490-47f1-db15-e25c81639662"
      },
      "execution_count": 94,
      "outputs": [
        {
          "output_type": "execute_result",
          "data": {
            "text/plain": [
              "2"
            ]
          },
          "metadata": {},
          "execution_count": 94
        }
      ]
    },
    {
      "cell_type": "code",
      "source": [
        "speech = \"\"\" Motivated by the success of the Aspirational Districts Programme, our\n",
        "Government will undertake a ‘Prime Minister Dhan-Dhaanya Krishi Yojana’ in\n",
        "partnership with states. Through the convergence of existing schemes and\n",
        "specialized measures, the programme will cover 100 districts with low\n",
        "productivity, moderate crop intensity and below-average credit parameters. It\n",
        "aims to (1) enhance agricultural productivity, (2) adopt crop diversification and\n",
        "sustainable agriculture practices, (3) augment post-harvest storage at the\n",
        "panchayat and block level, (4) improve irrigation facilities, and (5) facilitate\n",
        "availability of long-term and short-term credit. This programme is likely to help\n",
        "1.7 crore farmers.\n",
        "Building Rural Prosperity and Resilience\n",
        "11. A comprehensive multi-sectoral ‘Rural Prosperity and Resilience’\n",
        "programme will be launched in partnership with states. This will address underemployment in agriculture through skilling, investment, technology, and\n",
        "invigorating the rural economy. The goal is to generate ample opportunities in\n",
        "rural areas so that migration is an option, but not a necessity.\n",
        "12. The programme will focus on rural women, young farmers, rural youth,\n",
        "marginal and small farmers, and landless families. Details are in Annexure A.\n",
        "4\n",
        "13. Global and domestic best practices will be incorporated and\n",
        "appropriate technical and financial assistance will be sought from multilateral\n",
        "development banks. In Phase-1, 100 developing agri-districts will be covered.\n",
        "Aatmanirbharta in Pulses\n",
        "14. Our Government is implementing the National Mission for Edible\n",
        "Oilseed for achieving atmanirbhrata in edible oils. Our farmers have the\n",
        "capability to grow enough for our needs and more.\n",
        "15. Ten years ago, we made concerted efforts and succeeded in achieving\n",
        "near self-sufficiency in pulses. Farmers responded to the need by increasing the\n",
        "cultivated area by 50 per cent and Government arranged for procurement and\n",
        "remunerative prices. Since then, with rising incomes and better affordability,\n",
        "our consumption of pulses has increased significantly.\n",
        "16. Our Government will now launch a 6-year “Mission for Aatmanirbharta\n",
        "in Pulses” with a special focus on Tur, Urad and Masoor. Details are in\n",
        "Annexure B. Central agencies (NAFED and NCCF) will be ready to procure these\n",
        "3 pulses, as much as offered during the next 4 years from farmers who register\n",
        "with these agencies and enter into agreements.\n",
        "Comprehensive Programme for Vegetables & Fruits\n",
        "17. It is encouraging that our people are increasingly becoming aware of\n",
        "their nutritional needs. It is a sign of a society becoming healthier. With rising\n",
        "income levels, the consumption of vegetables, fruits and shree-anna is\n",
        "increasing significantly. A comprehensive programme to promote production,\n",
        "efficient supplies, processing, and remunerative prices for farmers will be\n",
        "launched in partnership with states. Appropriate institutional mechanisms for\n",
        "implementation and participation of farmer producer organizations and\n",
        "cooperatives will be set up.\n",
        "Makhana Board in Bihar\n",
        "18. For this, there is a special opportunity for the people of Bihar. A\n",
        "Makhana Board will be established in the state to improve production,\n",
        "processing, value addition, and marketing of makhana. The people engaged in\n",
        "these activities will be organized into FPOs. The Board will provide handholding\n",
        "and training support to makhana farmers and will also work to ensure they\n",
        "receive the benefits of all relevant Government schemes.\n",
        "5\n",
        "National Mission on High Yielding Seeds\n",
        "19. A National Mission on High Yielding Seeds will be launched, aimed at (1)\n",
        "strengthening the research ecosystem, (2) targeted development and\n",
        "propagation of seeds with high yield, pest resistance and climate resilience, and\n",
        "(3) commercial availability of more than 100 seed varieties released since July\n",
        "2024.\n",
        "Fisheries\n",
        "20. India ranks second-largest globally in fish production and aquaculture.\n",
        "Seafood exports are valued at ` 60 thousand crore. To unlock the untapped\n",
        "potential of the marine sector, our Government will bring in an enabling\n",
        "framework for sustainable harnessing of fisheries from Indian Exclusive\n",
        "Economic Zone and High Seas, with a special focus on the Andaman & Nicobar\n",
        "and Lakshadweep Islands.\n",
        "Mission for Cotton Productivity\n",
        "21. For the benefit of lakhs of cotton growing farmers, I am pleased to\n",
        "announce a ‘Mission for Cotton Productivity’. This 5-year mission will facilitate\n",
        "significant improvements in productivity and sustainability of cotton farming,\n",
        "and promote extra-long staple cotton varieties. The best of science &\n",
        "technology support will be provided to farmers. Aligned with our integrated 5F\n",
        "vision for the textile sector, this will help in increasing incomes of the farmers,\n",
        "and ensure a steady supply of quality cotton for rejuvenating India’s traditional\n",
        "textile sector.\n",
        "Enhanced Credit through KCC\n",
        "22. Kisan Credit Cards (KCC) facilitate short term loans for 7.7 crore farmers,\n",
        "fishermen, and dairy farmers. The loan limit under the Modified Interest\n",
        "Subvention Scheme will be enhanced from ` 3 lakh to 5 lakh for loans taken\n",
        "through the KCC.\n",
        "Urea Plant in Assam\n",
        "23. For Atmanirbharta in urea production, our Government had reopened\n",
        "three dormant urea plants in the Eastern region. To further augment urea\n",
        "supply, a plant with annual capacity of 12.7 lakh metric tons will be set up at\n",
        "Namrup, Assam.\n",
        "India Post as a Catalyst for the Rural Economy\n",
        "24. India Post with 1.5 lakh rural post offices, complemented by the India\n",
        "Post Payment Bank and a vast network of 2.4 lakh Dak Sevaks, will be\n",
        "repositioned to act as a catalyst for the rural economy. Details are at\n",
        "Annexure C. \"\"\""
      ],
      "metadata": {
        "id": "h72RWfL4G_NH"
      },
      "execution_count": 95,
      "outputs": []
    },
    {
      "cell_type": "code",
      "source": [
        "speech.count(\"india\")"
      ],
      "metadata": {
        "colab": {
          "base_uri": "https://localhost:8080/"
        },
        "id": "aZITjJOmHkf2",
        "outputId": "de77a8ff-9a1d-4ec1-a8d2-52a55ece0cf6"
      },
      "execution_count": 99,
      "outputs": [
        {
          "output_type": "execute_result",
          "data": {
            "text/plain": [
              "0"
            ]
          },
          "metadata": {},
          "execution_count": 99
        }
      ]
    },
    {
      "cell_type": "code",
      "source": [
        "a =   \" Krishna' laptop  \""
      ],
      "metadata": {
        "id": "EUiyfRTEHnes"
      },
      "execution_count": 102,
      "outputs": []
    },
    {
      "cell_type": "code",
      "source": [
        "a"
      ],
      "metadata": {
        "colab": {
          "base_uri": "https://localhost:8080/",
          "height": 36
        },
        "id": "z-soIjZmJS32",
        "outputId": "24161916-8d79-43e1-c00d-269a56b3ea80"
      },
      "execution_count": 103,
      "outputs": [
        {
          "output_type": "execute_result",
          "data": {
            "text/plain": [
              "\"Krishna's laptop\""
            ],
            "application/vnd.google.colaboratory.intrinsic+json": {
              "type": "string"
            }
          },
          "metadata": {},
          "execution_count": 103
        }
      ]
    },
    {
      "cell_type": "code",
      "source": [],
      "metadata": {
        "id": "DPfUidAQJTrs"
      },
      "execution_count": null,
      "outputs": []
    }
  ]
}